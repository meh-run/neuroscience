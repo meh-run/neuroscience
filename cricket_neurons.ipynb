{
 "cells": [
  {
   "cell_type": "code",
   "execution_count": 12,
   "id": "1869e082",
   "metadata": {},
   "outputs": [
    {
     "name": "stdout",
     "output_type": "stream",
     "text": [
      "Data loaded successfully.\n"
     ]
    }
   ],
   "source": [
    "import pickle\n",
    "import os\n",
    "import numpy as np\n",
    "\n",
    "file_path = '/Users/AZGARD/Downloads/nerosciencedata.pickle'\n",
    "\n",
    "if os.path.exists(file_path):\n",
    "    try:\n",
    "        with open(file_path, 'rb') as f:\n",
    "            data = pickle.load(f)\n",
    "        print(\"Data loaded successfully.\")\n",
    "    except Exception as e:\n",
    "        print(f\"An error occurred while loading the file: {e}\")\n",
    "else:\n",
    "    print(\"File not found. Please check the file path.\")\n"
   ]
  },
  {
   "cell_type": "code",
   "execution_count": 8,
   "id": "fbfecab5",
   "metadata": {},
   "outputs": [],
   "source": [
    "neuron1 = data['neuron1'] \n",
    "neuron2 = data['neuron2'] \n",
    "neuron3 = data['neuron3'] \n",
    "neuron4 = data['neuron4'] \n",
    "stim = data['stim']"
   ]
  },
  {
   "cell_type": "code",
   "execution_count": 10,
   "id": "fa956974",
   "metadata": {},
   "outputs": [],
   "source": [
    "time_window = 10\n",
    "spike_counts_neuron1 = neuron1 * time_window\n",
    "spike_counts_neuron2 = neuron2 * time_window\n",
    "spike_counts_neuron3 = neuron3 * time_window\n",
    "spike_counts_neuron4 = neuron4 * time_window"
   ]
  },
  {
   "cell_type": "code",
   "execution_count": 46,
   "id": "befcfa63",
   "metadata": {},
   "outputs": [],
   "source": [
    "#different way \n",
    "def calculate_fano_factor(neuron_data): \n",
    "    spike_counts = neuron_data * time_window \n",
    "    mean_spike_counts = np.mean(spike_counts, axis=0) \n",
    "    var_spike_counts = np.var(spike_counts, axis=0)\n",
    "    epsilon = 1e-6 \n",
    "    fano_factor = var_spike_counts / (mean_spike_counts + epsilon) \n",
    "    return np.mean(fano_factor)"
   ]
  },
  {
   "cell_type": "code",
   "execution_count": 47,
   "id": "17f112e2",
   "metadata": {},
   "outputs": [],
   "source": [
    "fano_factor_neuron1 = calculate_fano_factor(neuron1) \n",
    "fano_factor_neuron2 = calculate_fano_factor(neuron2) \n",
    "fano_factor_neuron3 = calculate_fano_factor(neuron3) \n",
    "fano_factor_neuron4 = calculate_fano_factor(neuron4)"
   ]
  },
  {
   "cell_type": "code",
   "execution_count": 48,
   "id": "ca83edb7",
   "metadata": {},
   "outputs": [
    {
     "name": "stdout",
     "output_type": "stream",
     "text": [
      "Fano Factor for Neuron 1: 0.42638613115501994\n",
      "Fano Factor for Neuron 2: 0.474527993944626\n",
      "Fano Factor for Neuron 3: 3.9724017248023493\n",
      "Fano Factor for Neuron 4: 0.44774277968245596\n"
     ]
    }
   ],
   "source": [
    "print('Fano Factor for Neuron 1:', fano_factor_neuron1) \n",
    "print('Fano Factor for Neuron 2:', fano_factor_neuron2) \n",
    "print('Fano Factor for Neuron 3:', fano_factor_neuron3) \n",
    "print('Fano Factor for Neuron 4:', fano_factor_neuron4)"
   ]
  },
  {
   "cell_type": "code",
   "execution_count": 13,
   "id": "ef944f11",
   "metadata": {},
   "outputs": [],
   "source": [
    "mean_spike_counts_neuron1 = np.mean(spike_counts_neuron1, axis=0) \n",
    "var_spike_counts_neuron1 = np.var(spike_counts_neuron1, axis=0) \n",
    "mean_spike_counts_neuron2 = np.mean(spike_counts_neuron2, axis=0) \n",
    "var_spike_counts_neuron2 = np.var(spike_counts_neuron2, axis=0) \n",
    "mean_spike_counts_neuron3 = np.mean(spike_counts_neuron3, axis=0) \n",
    "var_spike_counts_neuron3 = np.var(spike_counts_neuron3, axis=0) \n",
    "mean_spike_counts_neuron4 = np.mean(spike_counts_neuron4, axis=0) \n",
    "var_spike_counts_neuron4 = np.var(spike_counts_neuron4, axis=0)"
   ]
  },
  {
   "cell_type": "code",
   "execution_count": 19,
   "id": "d88f9f13",
   "metadata": {},
   "outputs": [
    {
     "name": "stdout",
     "output_type": "stream",
     "text": [
      "Mean spike counts for Neuron 1: [225.28 275.57 306.84 317.07 306.64 277.61 225.02 161.59  82.61   0.\n",
      "   0.     0.     0.     0.     0.     0.     0.     0.     0.     0.\n",
      "   0.     0.    83.52 160.13]\n",
      "Variance of spike counts for Neuron 1: [191.1016 282.7651 329.4144 322.5251 300.2304 209.9179 209.3996 134.7819\n",
      "  64.9779   0.       0.       0.       0.       0.       0.       0.\n",
      "   0.       0.       0.       0.       0.       0.      69.3696 184.3131]\n",
      "Mean spike counts for Neuron 2: [  0.     0.     0.     0.    55.6  105.91 148.09 182.07 203.06 210.69\n",
      " 202.   180.07 148.21 103.76  54.95   0.     0.     0.     0.     0.\n",
      "   0.     0.     0.     0.  ]\n",
      "Variance of spike counts for Neuron 2: [  0.       0.       0.       0.      56.46   114.3019 147.5219 159.3451\n",
      " 197.5364 233.2139 184.02   199.2251 149.4659 109.3224  69.4275   0.\n",
      "   0.       0.       0.       0.       0.       0.       0.       0.    ]\n",
      "Mean spike counts for Neuron 3: [  0.     0.     0.     0.     0.     0.     0.     0.     0.     6.64\n",
      "  40.11  72.73 104.13 128.04 145.1  152.6  143.38 133.31 105.5   75.41\n",
      "  39.59   5.78   0.36   0.  ]\n",
      "Variance of spike counts for Neuron 3: [  0.       0.       0.       0.       0.       0.       0.       0.\n",
      "   0.     113.6904 327.7779 501.8171 394.2531 408.0384 384.17   304.\n",
      " 414.0156 382.5539 360.89   398.3019 381.8419 115.9716   2.6504   0.    ]\n",
      "Mean spike counts for Neuron 4: [189.45 137.01  71.39   0.     0.     0.     0.     0.     0.     0.\n",
      "   0.     0.     0.     0.     0.     0.    70.3  134.22 189.97 231.86\n",
      " 259.   270.76 262.08 231.97]\n",
      "Variance of spike counts for Neuron 4: [209.0275 122.1499  74.5379   0.       0.       0.       0.       0.\n",
      "   0.       0.       0.       0.       0.       0.       0.       0.\n",
      "  76.93   129.9716 159.1491 222.5604 235.54   299.4424 191.6736 255.1291]\n"
     ]
    }
   ],
   "source": [
    "epsilon = 1e-6\n",
    "print(\"Mean spike counts for Neuron 1:\", mean_spike_counts_neuron1) \n",
    "print(\"Variance of spike counts for Neuron 1:\", var_spike_counts_neuron1) \n",
    "print(\"Mean spike counts for Neuron 2:\", mean_spike_counts_neuron2) \n",
    "print(\"Variance of spike counts for Neuron 2:\", var_spike_counts_neuron2) \n",
    "print(\"Mean spike counts for Neuron 3:\", mean_spike_counts_neuron3) \n",
    "print(\"Variance of spike counts for Neuron 3:\", var_spike_counts_neuron3) \n",
    "print(\"Mean spike counts for Neuron 4:\", mean_spike_counts_neuron4) \n",
    "print(\"Variance of spike counts for Neuron 4:\", var_spike_counts_neuron4)"
   ]
  },
  {
   "cell_type": "code",
   "execution_count": 20,
   "id": "a8d17c4e",
   "metadata": {},
   "outputs": [],
   "source": [
    "fano_factor_neuron1 = var_spike_counts_neuron1 / (mean_spike_counts_neuron1 + epsilon) \n",
    "fano_factor_neuron2 = var_spike_counts_neuron2 / (mean_spike_counts_neuron2 + epsilon) \n",
    "fano_factor_neuron3 = var_spike_counts_neuron3 / (mean_spike_counts_neuron3 + epsilon) \n",
    "fano_factor_neuron4 = var_spike_counts_neuron4 / (mean_spike_counts_neuron4 + epsilon)"
   ]
  },
  {
   "cell_type": "code",
   "execution_count": 22,
   "id": "348ec0a2",
   "metadata": {},
   "outputs": [
    {
     "name": "stdout",
     "output_type": "stream",
     "text": [
      "Fano Factor for Neuron 1: 0.42638613115501994\n",
      "Fano Factor for Neuron 2: 0.474527993944626\n",
      "Fano Factor for Neuron 3: 3.9724017248023493\n",
      "Fano Factor for Neuron 4: 0.44774277968245596\n"
     ]
    }
   ],
   "source": [
    "print('Fano Factor for Neuron 1:', np.mean(fano_factor_neuron1)) \n",
    "print('Fano Factor for Neuron 2:', np.mean(fano_factor_neuron2)) \n",
    "print('Fano Factor for Neuron 3:', np.mean(fano_factor_neuron3)) \n",
    "print('Fano Factor for Neuron 4:', np.mean(fano_factor_neuron4))"
   ]
  },
  {
   "cell_type": "code",
   "execution_count": 50,
   "id": "026f7bd1",
   "metadata": {},
   "outputs": [
    {
     "name": "stdout",
     "output_type": "stream",
     "text": [
      "Neuron 1 is not Poisson.\n"
     ]
    }
   ],
   "source": [
    "threshold = 1.0\n",
    "if abs(np.mean(fano_factor_neuron1) - threshold) > 0.1: \n",
    "    print('Neuron 1 is not Poisson.') \n",
    "elif abs(np.mean(fano_factor_neuron2) - threshold) > 0.1: \n",
    "    print('Neuron 2 is not Poisson.') \n",
    "elif abs(np.mean(fano_factor_neuron3) - threshold) > 0.1: \n",
    "    print('Neuron 3 is not Poisson.') \n",
    "elif abs(np.mean(fano_factor_neuron4) - threshold) > 0.1: \n",
    "    print('Neuron 4 is not Poisson.') \n",
    "else: print('All neurons are Poisson.')"
   ]
  },
  {
   "cell_type": "code",
   "execution_count": 30,
   "id": "7622fd1a",
   "metadata": {},
   "outputs": [],
   "source": [
    "file_path = '/Users/AZGARD/Downloads/pop_cod.pickle' \n",
    "with open(file_path, 'rb') as f:\n",
    "    data = pickle.load(f)"
   ]
  },
  {
   "cell_type": "code",
   "execution_count": 32,
   "id": "9bc78bf8",
   "metadata": {},
   "outputs": [],
   "source": [
    "r1 = data['r1'] \n",
    "r2 = data['r2'] \n",
    "r3 = data['r3'] \n",
    "r4 = data['r4'] \n",
    "c1 = data['c1'] \n",
    "c2 = data['c2'] \n",
    "c3 = data['c3'] \n",
    "c4 = data['c4']"
   ]
  },
  {
   "cell_type": "code",
   "execution_count": 33,
   "id": "bf9d2a1d",
   "metadata": {},
   "outputs": [
    {
     "name": "stdout",
     "output_type": "stream",
     "text": [
      "r1: [11.9 12.8 13.9 12.1 11.3 12.2 12.9 12.4 13.2 10.7]\n",
      "r2: [18.8 18.  19.  19.1 18.1 21.5 20.3 21.2 18.6 20.4]\n",
      "r3: [0. 0. 0. 0. 0. 0. 0. 0. 0. 0.]\n",
      "r4: [0. 0. 0. 0. 0. 0. 0. 0. 0. 0.]\n",
      "c1: [0.70710678 0.70710678]\n",
      "c2: [ 0.70710678 -0.70710678]\n",
      "c3: [-0.70710678 -0.70710678]\n",
      "c4: [-0.70710678  0.70710678]\n"
     ]
    }
   ],
   "source": [
    "print('r1:', r1) \n",
    "print('r2:', r2) \n",
    "print('r3:', r3) \n",
    "print('r4:', r4) \n",
    "print('c1:', c1) \n",
    "print('c2:', c2) \n",
    "print('c3:', c3) \n",
    "print('c4:', c4)"
   ]
  },
  {
   "cell_type": "code",
   "execution_count": 34,
   "id": "89267e1c",
   "metadata": {},
   "outputs": [],
   "source": [
    "r1 = np.array([11.9, 12.8, 13.9, 12.1, 11.3, 12.2, 12.9, 12.4, 13.2, 10.7]) \n",
    "r2 = np.array([18.8, 18.0, 19.0, 19.1, 18.1, 21.5, 20.3, 21.2, 18.6, 20.4]) \n",
    "r3 = np.array([0.0, 0.0, 0.0, 0.0, 0.0, 0.0, 0.0, 0.0, 0.0, 0.0]) \n",
    "r4 = np.array([0.0, 0.0, 0.0, 0.0, 0.0, 0.0, 0.0, 0.0, 0.0, 0.0]) \n",
    "c1 = np.array([0.70710678, 0.70710678]) \n",
    "c2 = np.array([0.70710678, -0.70710678]) \n",
    "c3 = np.array([-0.70710678, -0.70710678]) \n",
    "c4 = np.array([-0.70710678, 0.70710678])"
   ]
  },
  {
   "cell_type": "code",
   "execution_count": 35,
   "id": "53066a1b",
   "metadata": {},
   "outputs": [],
   "source": [
    "r_max_neuron1 = np.max(r1) \n",
    "r_max_neuron2 = np.max(r2) \n",
    "r_max_neuron3 = np.max(r3) \n",
    "r_max_neuron4 = np.max(r4)"
   ]
  },
  {
   "cell_type": "code",
   "execution_count": 37,
   "id": "fb4327a4",
   "metadata": {},
   "outputs": [],
   "source": [
    "r1_norm = r1 / r_max_neuron1 \n",
    "r2_norm = r2 / r_max_neuron2 \n",
    "r3_norm = r3 if r_max_neuron3 == 0 else r3 / r_max_neuron3\n",
    "r4_norm = r4 if r_max_neuron4 == 0 else r4 / r_max_neuron4"
   ]
  },
  {
   "cell_type": "code",
   "execution_count": 41,
   "id": "34e84a0d",
   "metadata": {},
   "outputs": [],
   "source": [
    "population_vector = ( np.dot(r1_norm[:, None], c1[None, :]) + \n",
    "                     np.dot(r2_norm[:, None], c2[None, :]) + \n",
    "                     np.dot(r3_norm[:, None], c3[None, :]) + \n",
    "                     np.dot(r4_norm[:, None], c4[None, :]) \n",
    ")"
   ]
  },
  {
   "cell_type": "code",
   "execution_count": 45,
   "id": "d0451caa",
   "metadata": {},
   "outputs": [
    {
     "name": "stdout",
     "output_type": "stream",
     "text": [
      "The direction of the population vector is approximately 359 degrees.\n"
     ]
    }
   ],
   "source": [
    "population_vector_sum = np.sum(population_vector, axis=0)\n",
    "angle = np.degrees(np.arctan2(population_vector_sum[1], population_vector_sum[0]))\n",
    "angle = angle % 360\n",
    "print(f\"The direction of the population vector is approximately {angle:.0f} degrees.\")"
   ]
  },
  {
   "cell_type": "code",
   "execution_count": null,
   "id": "fe1a7c81",
   "metadata": {},
   "outputs": [],
   "source": []
  }
 ],
 "metadata": {
  "kernelspec": {
   "display_name": "Python 3 (ipykernel)",
   "language": "python",
   "name": "python3"
  },
  "language_info": {
   "codemirror_mode": {
    "name": "ipython",
    "version": 3
   },
   "file_extension": ".py",
   "mimetype": "text/x-python",
   "name": "python",
   "nbconvert_exporter": "python",
   "pygments_lexer": "ipython3",
   "version": "3.11.5"
  }
 },
 "nbformat": 4,
 "nbformat_minor": 5
}
